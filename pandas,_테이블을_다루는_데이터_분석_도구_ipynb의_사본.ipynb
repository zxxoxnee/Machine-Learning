{
  "nbformat": 4,
  "nbformat_minor": 0,
  "metadata": {
    "kernelspec": {
      "name": "python3",
      "display_name": "Python 3"
    },
    "toc": {
      "base_numbering": 1,
      "nav_menu": {
        "height": "144px",
        "width": "160px"
      },
      "number_sections": false,
      "sideBar": true,
      "skip_h1_title": false,
      "title_cell": "Table of Contents",
      "title_sidebar": "Contents",
      "toc_cell": false,
      "toc_position": {
        "height": "calc(100% - 180px)",
        "left": "10px",
        "top": "150px",
        "width": "260px"
      },
      "toc_section_display": true,
      "toc_window_display": true
    },
    "varInspector": {
      "cols": {
        "lenName": 16,
        "lenType": 16,
        "lenVar": 40
      },
      "kernels_config": {
        "python": {
          "delete_cmd_postfix": "",
          "delete_cmd_prefix": "del ",
          "library": "var_list.py",
          "varRefreshCmd": "print(var_dic_list())"
        },
        "r": {
          "delete_cmd_postfix": ") ",
          "delete_cmd_prefix": "rm(",
          "library": "var_list.r",
          "varRefreshCmd": "cat(var_dic_list()) "
        }
      },
      "types_to_exclude": [
        "module",
        "function",
        "builtin_function_or_method",
        "instance",
        "_Feature"
      ],
      "window_display": false
    },
    "colab": {
      "name": "pandas, 테이블을 다루는 데이터 분석 도구.ipynb의 사본",
      "provenance": [],
      "collapsed_sections": [],
      "toc_visible": true,
      "include_colab_link": true
    }
  },
  "cells": [
    {
      "cell_type": "markdown",
      "metadata": {
        "id": "view-in-github",
        "colab_type": "text"
      },
      "source": [
        "<a href=\"https://colab.research.google.com/github/zxxoxnee/Machine-Learning/blob/master/pandas%2C_%ED%85%8C%EC%9D%B4%EB%B8%94%EC%9D%84_%EB%8B%A4%EB%A3%A8%EB%8A%94_%EB%8D%B0%EC%9D%B4%ED%84%B0_%EB%B6%84%EC%84%9D_%EB%8F%84%EA%B5%AC_ipynb%EC%9D%98_%EC%82%AC%EB%B3%B8.ipynb\" target=\"_parent\"><img src=\"https://colab.research.google.com/assets/colab-badge.svg\" alt=\"Open In Colab\"/></a>"
      ]
    },
    {
      "cell_type": "markdown",
      "metadata": {
        "id": "rYVqw4SfzFls"
      },
      "source": [
        "# pandas, 테이블을 다루는 데이터 분석 도구"
      ]
    },
    {
      "cell_type": "code",
      "metadata": {
        "ExecuteTime": {
          "end_time": "2021-03-13T04:05:06.063376Z",
          "start_time": "2021-03-13T04:05:06.059378Z"
        },
        "id": "nPwt4R4lzFlz"
      },
      "source": [
        "# numpy, pandas 임포트\n",
        "import numpy as np\n",
        "import pandas as pd"
      ],
      "execution_count": null,
      "outputs": []
    },
    {
      "cell_type": "markdown",
      "metadata": {
        "id": "yV8U3Ae7zFl2"
      },
      "source": [
        "## 데이터 준비\n",
        "### **먼저 아래 링크에서 stock.adj_close.csv 파일을 다운로드 받고, colab에 업로드합니다.**\n",
        "#### https://drive.google.com/file/d/1AnWjtW9bdIqBEnxeOMfST_Pxx2IVQfMJ/view?usp=sharing\n"
      ]
    },
    {
      "cell_type": "markdown",
      "metadata": {
        "id": "b8uBhczC77CP"
      },
      "source": [
        "##### &nbsp;&nbsp;&nbsp;&nbsp;&nbsp; 주가 데이터를 불러오고, series 하나를 고릅니다."
      ]
    },
    {
      "cell_type": "code",
      "metadata": {
        "ExecuteTime": {
          "end_time": "2021-03-13T04:05:06.396046Z",
          "start_time": "2021-03-13T04:05:06.065373Z"
        },
        "id": "NTrIKzsqzFl2"
      },
      "source": [
        "주가_데이터 = pd.read_csv('stock.adj_close.csv', index_col=0)\n",
        "my_series = 주가_데이터.loc['A005930']['2020-09-09':]"
      ],
      "execution_count": null,
      "outputs": []
    },
    {
      "cell_type": "code",
      "metadata": {
        "id": "UWo0j9-R7268"
      },
      "source": [
        "my_series"
      ],
      "execution_count": null,
      "outputs": []
    },
    {
      "cell_type": "markdown",
      "metadata": {
        "id": "sxGVHXzSzFl3"
      },
      "source": [
        "##### &nbsp;&nbsp;&nbsp;&nbsp;&nbsp; 주가 데이터에서 dataframe 하나를 추출합니다."
      ]
    },
    {
      "cell_type": "code",
      "metadata": {
        "ExecuteTime": {
          "end_time": "2021-03-13T04:05:06.402040Z",
          "start_time": "2021-03-13T04:05:06.398045Z"
        },
        "id": "o_WIATjCzFl3"
      },
      "source": [
        "my_df = 주가_데이터.T.loc['2020-09-09':,'A005900':'A006000']"
      ],
      "execution_count": null,
      "outputs": []
    },
    {
      "cell_type": "code",
      "metadata": {
        "ExecuteTime": {
          "end_time": "2021-03-13T04:05:06.419023Z",
          "start_time": "2021-03-13T04:05:06.404038Z"
        },
        "id": "bsEnJSLxzFl3"
      },
      "source": [
        "my_df"
      ],
      "execution_count": null,
      "outputs": []
    },
    {
      "cell_type": "markdown",
      "metadata": {
        "id": "FebTPpF8zFl4"
      },
      "source": [
        "## pandas 기본 1. 『 Series 』 행×값 데이터 "
      ]
    },
    {
      "cell_type": "code",
      "metadata": {
        "ExecuteTime": {
          "end_time": "2021-03-13T04:05:06.427015Z",
          "start_time": "2021-03-13T04:05:06.421021Z"
        },
        "id": "ARB20W_PzFl4"
      },
      "source": [
        "my_series    # Series"
      ],
      "execution_count": null,
      "outputs": []
    },
    {
      "cell_type": "code",
      "metadata": {
        "ExecuteTime": {
          "end_time": "2021-03-13T04:05:06.434010Z",
          "start_time": "2021-03-13T04:05:06.429013Z"
        },
        "id": "wF4fmz4ozFl4"
      },
      "source": [
        "my_series.index    # Series의 인덱스 보기"
      ],
      "execution_count": null,
      "outputs": []
    },
    {
      "cell_type": "code",
      "metadata": {
        "ExecuteTime": {
          "end_time": "2021-03-13T04:05:06.444998Z",
          "start_time": "2021-03-13T04:05:06.438005Z"
        },
        "id": "PQI6jboAzFl4"
      },
      "source": [
        "my_series.name    # Series의 이름 보기"
      ],
      "execution_count": null,
      "outputs": []
    },
    {
      "cell_type": "code",
      "metadata": {
        "ExecuteTime": {
          "end_time": "2021-03-13T04:05:06.451991Z",
          "start_time": "2021-03-13T04:05:06.446996Z"
        },
        "id": "YAOZs6mhzFl5"
      },
      "source": [
        "type(my_series)    # 타입 확인하기"
      ],
      "execution_count": null,
      "outputs": []
    },
    {
      "cell_type": "markdown",
      "metadata": {
        "id": "vom7k5fczFl5"
      },
      "source": [
        "## pandas 기본 2. 『 Series 』   접근, 연산, 생성"
      ]
    },
    {
      "cell_type": "code",
      "metadata": {
        "ExecuteTime": {
          "end_time": "2021-03-13T04:05:06.457985Z",
          "start_time": "2021-03-13T04:05:06.453989Z"
        },
        "id": "_R57LzwFzFl5"
      },
      "source": [
        "my_series.loc['2020-09-15']   # 인덱스로 접근"
      ],
      "execution_count": null,
      "outputs": []
    },
    {
      "cell_type": "code",
      "metadata": {
        "ExecuteTime": {
          "end_time": "2021-03-13T04:05:06.463980Z",
          "start_time": "2021-03-13T04:05:06.459983Z"
        },
        "id": "2mLcMKe2zFl5"
      },
      "source": [
        "my_series.iloc[4]    # 배열 번호로 접근"
      ],
      "execution_count": null,
      "outputs": []
    },
    {
      "cell_type": "code",
      "metadata": {
        "ExecuteTime": {
          "end_time": "2021-03-13T04:05:06.473969Z",
          "start_time": "2021-03-13T04:05:06.465979Z"
        },
        "id": "qO-Z6tItzFl5"
      },
      "source": [
        "my_series.loc['2020-09-15':'2020-09-17']  # 인덱스로 Slicing"
      ],
      "execution_count": null,
      "outputs": []
    },
    {
      "cell_type": "code",
      "metadata": {
        "ExecuteTime": {
          "end_time": "2021-03-13T04:05:06.483959Z",
          "start_time": "2021-03-13T04:05:06.475968Z"
        },
        "id": "d67h3tWTzFl6"
      },
      "source": [
        "my_series.iloc[4:7]    # 배열 번호로 Slicing (끝 포함 X)"
      ],
      "execution_count": null,
      "outputs": []
    },
    {
      "cell_type": "code",
      "metadata": {
        "ExecuteTime": {
          "end_time": "2021-03-13T04:05:06.492951Z",
          "start_time": "2021-03-13T04:05:06.485958Z"
        },
        "id": "UjU1q5YazFl6"
      },
      "source": [
        "my_series.iloc[4:] + my_series.iloc[4:]"
      ],
      "execution_count": null,
      "outputs": []
    },
    {
      "cell_type": "code",
      "metadata": {
        "ExecuteTime": {
          "end_time": "2021-03-13T04:05:06.503939Z",
          "start_time": "2021-03-13T04:05:06.494949Z"
        },
        "id": "5St7-mtqzFl6"
      },
      "source": [
        "my_series.loc['2020-09-15'::2] + 30000  # Scalar Broadcasting"
      ],
      "execution_count": null,
      "outputs": []
    },
    {
      "cell_type": "code",
      "metadata": {
        "ExecuteTime": {
          "end_time": "2021-03-13T04:05:06.511932Z",
          "start_time": "2021-03-13T04:05:06.505938Z"
        },
        "id": "nyC2wMiAzFl6"
      },
      "source": [
        "my_series.iloc[4:].mean()    # 평균 aggregation"
      ],
      "execution_count": null,
      "outputs": []
    },
    {
      "cell_type": "code",
      "metadata": {
        "ExecuteTime": {
          "end_time": "2021-03-13T04:05:06.521923Z",
          "start_time": "2021-03-13T04:05:06.513931Z"
        },
        "id": "nk6Ql-N7zFl6"
      },
      "source": [
        "new_sr = pd.Series([11,22,3,45], name='apple',\n",
        "                   index=['a','b','xs','e11'])\n",
        "new_sr"
      ],
      "execution_count": null,
      "outputs": []
    },
    {
      "cell_type": "markdown",
      "metadata": {
        "id": "nmirQiUUzFl7"
      },
      "source": [
        "## pandas 기본 3. 『 DataFrame 』 행×열 데이터 "
      ]
    },
    {
      "cell_type": "code",
      "metadata": {
        "id": "AwxnFxhYpjeQ"
      },
      "source": [
        "my_df"
      ],
      "execution_count": null,
      "outputs": []
    },
    {
      "cell_type": "markdown",
      "metadata": {
        "id": "W_6-smD2zFl7"
      },
      "source": [
        "## pandas 기본 4. 『 DataFrame 』  접근"
      ]
    },
    {
      "cell_type": "code",
      "metadata": {
        "ExecuteTime": {
          "end_time": "2021-03-13T04:05:06.538905Z",
          "start_time": "2021-03-13T04:05:06.531913Z"
        },
        "id": "oyvMq_ZqzFl7"
      },
      "source": [
        "my_df.loc['2020-09-15', 'A005930']   # .loc 단일 원소 접근"
      ],
      "execution_count": null,
      "outputs": []
    },
    {
      "cell_type": "code",
      "metadata": {
        "ExecuteTime": {
          "end_time": "2021-03-13T04:05:06.548897Z",
          "start_time": "2021-03-13T04:05:06.542902Z"
        },
        "id": "1mGQqUwnzFl8"
      },
      "source": [
        "# .loc [ 인덱스, 컬럼 slice ] 로 접근  →  Series 반환\n",
        "my_df.loc['2020-09-15', 'A005930':'A005950']"
      ],
      "execution_count": null,
      "outputs": []
    },
    {
      "cell_type": "code",
      "metadata": {
        "ExecuteTime": {
          "end_time": "2021-03-13T04:05:06.558886Z",
          "start_time": "2021-03-13T04:05:06.551893Z"
        },
        "id": "X-C19JMPzFl8"
      },
      "source": [
        "# .loc [ 인덱스 slice, 컬럼이름 ] 으로 접근  →  Series 반환\n",
        "my_df.loc['2020-09-15':'2020-09-18', 'A005930']"
      ],
      "execution_count": null,
      "outputs": []
    },
    {
      "cell_type": "code",
      "metadata": {
        "ExecuteTime": {
          "end_time": "2021-03-13T04:05:06.573871Z",
          "start_time": "2021-03-13T04:05:06.560884Z"
        },
        "code_folding": [],
        "id": "A0lwgBFuzFl8"
      },
      "source": [
        "#  .loc [ index slice, column slice ]  →  DataFrame 반환\n",
        "my_df.loc['2020-09-14':'2020-09-18':2, 'A005940':'A005980']"
      ],
      "execution_count": null,
      "outputs": []
    },
    {
      "cell_type": "code",
      "metadata": {
        "ExecuteTime": {
          "end_time": "2021-03-13T04:05:06.581863Z",
          "start_time": "2021-03-13T04:05:06.575869Z"
        },
        "id": "_-ghkBwdzFl8"
      },
      "source": [
        "# .iloc [ index, column slice ]  으로 접근  →  Series 반환\n",
        "my_df.iloc[0, 3:]  "
      ],
      "execution_count": null,
      "outputs": []
    },
    {
      "cell_type": "code",
      "metadata": {
        "ExecuteTime": {
          "end_time": "2021-03-13T04:05:06.591854Z",
          "start_time": "2021-03-13T04:05:06.582862Z"
        },
        "id": "5j1NyalfzFl8"
      },
      "source": [
        "#  .iloc [ index slice, column slice ]  →  DataFrame 반환\n",
        "my_df.iloc[4:7:2, 1:4]"
      ],
      "execution_count": null,
      "outputs": []
    },
    {
      "cell_type": "code",
      "metadata": {
        "id": "3jwCTm11mp3Q"
      },
      "source": [
        "my_df"
      ],
      "execution_count": null,
      "outputs": []
    },
    {
      "cell_type": "markdown",
      "metadata": {
        "id": "_pJKZN_tzFl9"
      },
      "source": [
        "### <연습문제>\n",
        "my_df에서 A005950 종목의  2020-09-16의 주가를 뽑아보세요"
      ]
    },
    {
      "cell_type": "code",
      "metadata": {
        "ExecuteTime": {
          "end_time": "2021-03-06T17:53:13.879232Z",
          "start_time": "2021-03-06T17:53:13.874237Z"
        },
        "id": "EhmjK90rzFl9"
      },
      "source": [
        ""
      ],
      "execution_count": null,
      "outputs": []
    },
    {
      "cell_type": "markdown",
      "metadata": {
        "id": "BPsYOl2UzFl9"
      },
      "source": [
        "### <연습문제>\n",
        "my_df에서 A005950 종목의  2020-09-10 ~ 2020-09-15 의 주가를 뽑아보세요"
      ]
    },
    {
      "cell_type": "code",
      "metadata": {
        "ExecuteTime": {
          "end_time": "2021-03-06T17:53:13.886226Z",
          "start_time": "2021-03-06T17:53:13.881230Z"
        },
        "id": "98GW7hIpzFl9"
      },
      "source": [
        ""
      ],
      "execution_count": null,
      "outputs": []
    },
    {
      "cell_type": "markdown",
      "metadata": {
        "id": "V_-xzHjqzFl9"
      },
      "source": [
        "### <연습문제>\n",
        "my_df에서 A005930과 A005950 종목의  2020-09-10 ~ 2020-09-17 의 주가를 **이틀 간격**으로 뽑아보세요"
      ]
    },
    {
      "cell_type": "code",
      "metadata": {
        "ExecuteTime": {
          "end_time": "2021-03-06T17:53:13.898214Z",
          "start_time": "2021-03-06T17:53:13.888224Z"
        },
        "id": "copPB61OzFl9"
      },
      "source": [
        ""
      ],
      "execution_count": null,
      "outputs": []
    },
    {
      "cell_type": "markdown",
      "metadata": {
        "id": "-WgPo2ZNzFl-"
      },
      "source": [
        "## pandas 기본 5. 『 DataFrame 』  접근 2,  연산"
      ]
    },
    {
      "cell_type": "code",
      "metadata": {
        "ExecuteTime": {
          "end_time": "2021-03-13T04:05:06.600844Z",
          "start_time": "2021-03-13T04:05:06.594850Z"
        },
        "id": "mlhH5emYzFl-"
      },
      "source": [
        "# ::으로 모든 원소 지칭\n",
        "my_df.loc[::, 'A005930']"
      ],
      "execution_count": null,
      "outputs": []
    },
    {
      "cell_type": "code",
      "metadata": {
        "ExecuteTime": {
          "end_time": "2021-03-13T04:05:06.614832Z",
          "start_time": "2021-03-13T04:05:06.602843Z"
        },
        "id": "DjdyO2LozFl-"
      },
      "source": [
        "# : 한번만 사용 가능\n",
        "my_df.iloc[5, :]"
      ],
      "execution_count": null,
      "outputs": []
    },
    {
      "cell_type": "code",
      "metadata": {
        "ExecuteTime": {
          "end_time": "2021-03-13T04:05:06.623823Z",
          "start_time": "2021-03-13T04:05:06.616830Z"
        },
        "id": "RRLe7WCCzFl-"
      },
      "source": [
        "# shape 보기\n",
        "my_df.iloc[5, :].shape"
      ],
      "execution_count": null,
      "outputs": []
    },
    {
      "cell_type": "code",
      "metadata": {
        "ExecuteTime": {
          "end_time": "2021-03-13T04:05:06.643803Z",
          "start_time": "2021-03-13T04:05:06.629817Z"
        },
        "id": "0COa2OVXzFl-"
      },
      "source": [
        "my_df.iloc[5:, ::3]"
      ],
      "execution_count": null,
      "outputs": []
    },
    {
      "cell_type": "code",
      "metadata": {
        "ExecuteTime": {
          "end_time": "2021-03-13T04:05:06.651795Z",
          "start_time": "2021-03-13T04:05:06.645801Z"
        },
        "id": "z1-MfxlIzFl-"
      },
      "source": [
        "my_df.iloc[5:, ::3].shape"
      ],
      "execution_count": null,
      "outputs": []
    },
    {
      "cell_type": "code",
      "metadata": {
        "ExecuteTime": {
          "end_time": "2021-03-13T04:05:06.668779Z",
          "start_time": "2021-03-13T04:05:06.653792Z"
        },
        "id": "S0TmGJzxzFl_"
      },
      "source": [
        "my_df.iloc[::4].loc[:, 'A005950':]"
      ],
      "execution_count": null,
      "outputs": []
    },
    {
      "cell_type": "code",
      "metadata": {
        "ExecuteTime": {
          "end_time": "2021-03-13T04:05:06.685761Z",
          "start_time": "2021-03-13T04:05:06.671776Z"
        },
        "id": "DKeTbpnYzFl_"
      },
      "source": [
        "my_df.loc['2020-09-09'::4].iloc[:,2:]"
      ],
      "execution_count": null,
      "outputs": []
    },
    {
      "cell_type": "code",
      "metadata": {
        "ExecuteTime": {
          "end_time": "2021-03-13T04:05:06.691757Z",
          "start_time": "2021-03-13T04:05:06.687759Z"
        },
        "id": "9SLsfmxezFmA"
      },
      "source": [
        "my_df_2 = my_df.loc[:'2020-09-11','A005960':]"
      ],
      "execution_count": null,
      "outputs": []
    },
    {
      "cell_type": "code",
      "metadata": {
        "ExecuteTime": {
          "end_time": "2021-03-13T04:05:06.711735Z",
          "start_time": "2021-03-13T04:05:06.697749Z"
        },
        "id": "xWmUbZPFzFmA"
      },
      "source": [
        "my_df_2"
      ],
      "execution_count": null,
      "outputs": []
    },
    {
      "cell_type": "code",
      "metadata": {
        "ExecuteTime": {
          "end_time": "2021-03-13T04:05:06.725722Z",
          "start_time": "2021-03-13T04:05:06.714732Z"
        },
        "id": "d8BmZe__zFmA"
      },
      "source": [
        "my_df_2 * 1.30   # Broadcasting"
      ],
      "execution_count": null,
      "outputs": []
    },
    {
      "cell_type": "code",
      "metadata": {
        "ExecuteTime": {
          "end_time": "2021-03-13T04:05:06.739709Z",
          "start_time": "2021-03-13T04:05:06.728719Z"
        },
        "id": "vdLkuH4lzFmB"
      },
      "source": [
        "my_df_2.mean(axis=0)  # 평균 Agg"
      ],
      "execution_count": null,
      "outputs": []
    },
    {
      "cell_type": "markdown",
      "metadata": {
        "id": "K41dgKnczFmB"
      },
      "source": [
        "### <연습문제>\n",
        "my_df에서 A005950종목의 전체 기간의 주가의 평균을 구해보시오"
      ]
    },
    {
      "cell_type": "code",
      "metadata": {
        "ExecuteTime": {
          "end_time": "2021-03-06T17:53:14.011103Z",
          "start_time": "2021-03-06T17:53:14.005108Z"
        },
        "id": "dbAO5R8XzFmB"
      },
      "source": [
        ""
      ],
      "execution_count": null,
      "outputs": []
    },
    {
      "cell_type": "markdown",
      "metadata": {
        "id": "-k4bd_CVzFmB"
      },
      "source": [
        "### <연습문제>\n",
        "my_df에서 A005980종목 2020-09-14 이후 주가의 일별 상한가를 구해보세요 (상한가: 30% 상승)"
      ]
    },
    {
      "cell_type": "code",
      "metadata": {
        "ExecuteTime": {
          "end_time": "2021-03-06T17:53:14.021092Z",
          "start_time": "2021-03-06T17:53:14.013100Z"
        },
        "id": "DOsjvWHozFmC"
      },
      "source": [
        ""
      ],
      "execution_count": null,
      "outputs": []
    },
    {
      "cell_type": "markdown",
      "metadata": {
        "id": "3t5PA7DozFmC"
      },
      "source": [
        "### <연습문제>\n",
        "my_df에서 모든 종목의 2020-09-17 ~ 2020-09-24 기간의 수익률을 구해보세요 (% 단위)"
      ]
    },
    {
      "cell_type": "code",
      "metadata": {
        "ExecuteTime": {
          "end_time": "2021-03-06T17:53:14.030083Z",
          "start_time": "2021-03-06T17:53:14.022091Z"
        },
        "id": "JxI7SYGJzFmC"
      },
      "source": [
        ""
      ],
      "execution_count": null,
      "outputs": []
    },
    {
      "cell_type": "markdown",
      "metadata": {
        "id": "LxBuP05szFmD"
      },
      "source": [
        "## pandas 기본 6. 『 DataFrame 』  연산 2,  정렬"
      ]
    },
    {
      "cell_type": "code",
      "metadata": {
        "ExecuteTime": {
          "end_time": "2021-03-13T04:05:06.754693Z",
          "start_time": "2021-03-13T04:05:06.741706Z"
        },
        "id": "qZXooapBzFmD"
      },
      "source": [
        "my_df_2.notna()"
      ],
      "execution_count": null,
      "outputs": []
    },
    {
      "cell_type": "code",
      "metadata": {
        "ExecuteTime": {
          "end_time": "2021-03-13T04:05:06.765682Z",
          "start_time": "2021-03-13T04:05:06.757690Z"
        },
        "id": "sAx-ZdlCzFmD"
      },
      "source": [
        "my_df_2.sum(axis=0)"
      ],
      "execution_count": null,
      "outputs": []
    },
    {
      "cell_type": "code",
      "metadata": {
        "ExecuteTime": {
          "end_time": "2021-03-13T04:05:06.777670Z",
          "start_time": "2021-03-13T04:05:06.767680Z"
        },
        "id": "63JcME7gzFmD"
      },
      "source": [
        "my_df_2.median(axis=1)"
      ],
      "execution_count": null,
      "outputs": []
    },
    {
      "cell_type": "code",
      "metadata": {
        "ExecuteTime": {
          "end_time": "2021-03-13T04:05:06.794655Z",
          "start_time": "2021-03-13T04:05:06.780668Z"
        },
        "id": "8L_6nbrQzFmD"
      },
      "source": [
        "my_df_2.cumsum(axis=0)"
      ],
      "execution_count": null,
      "outputs": []
    },
    {
      "cell_type": "code",
      "metadata": {
        "ExecuteTime": {
          "end_time": "2021-03-13T04:05:06.811637Z",
          "start_time": "2021-03-13T04:05:06.797651Z"
        },
        "id": "xT1ptFNkzFmD"
      },
      "source": [
        "my_df_2.sort_values('A005960', axis=0, ascending=True)"
      ],
      "execution_count": null,
      "outputs": []
    },
    {
      "cell_type": "code",
      "metadata": {
        "ExecuteTime": {
          "end_time": "2021-03-13T04:05:06.825623Z",
          "start_time": "2021-03-13T04:05:06.813635Z"
        },
        "id": "sljBSlaSzFmE"
      },
      "source": [
        "my_df_2.sort_values('2020-09-11', axis='columns', ascending=True)"
      ],
      "execution_count": null,
      "outputs": []
    },
    {
      "cell_type": "code",
      "metadata": {
        "ExecuteTime": {
          "end_time": "2021-03-13T04:05:06.842606Z",
          "start_time": "2021-03-13T04:05:06.827622Z"
        },
        "id": "1cCtLwwzzFmE"
      },
      "source": [
        "my_df_2.rank(axis=0, ascending=False)"
      ],
      "execution_count": null,
      "outputs": []
    },
    {
      "cell_type": "markdown",
      "metadata": {
        "id": "PYOf0rAWzFmE"
      },
      "source": [
        "### <연습문제>\n",
        "my_df에서 2020-09-16일자의 주가 들을 내림차순 순서로 정렬해보세요"
      ]
    },
    {
      "cell_type": "code",
      "metadata": {
        "ExecuteTime": {
          "end_time": "2021-03-06T17:53:14.111005Z",
          "start_time": "2021-03-06T17:53:14.104011Z"
        },
        "id": "RK1dauwfzFmE"
      },
      "source": [
        ""
      ],
      "execution_count": null,
      "outputs": []
    },
    {
      "cell_type": "markdown",
      "metadata": {
        "id": "4ZnwRrUQzFmE"
      },
      "source": [
        "### <연습문제>\n",
        "my_df에서 2020-09-09 ~ 2020-09-18 의 전 종목 수익률을 계산하여 순위를 출력해보세요 (수익률 높은 순)  \n",
        "9/9 종가 매수 ~ 9/18 종가 매도"
      ]
    },
    {
      "cell_type": "code",
      "metadata": {
        "id": "aGUXlZxan5y8"
      },
      "source": [
        ""
      ],
      "execution_count": null,
      "outputs": []
    },
    {
      "cell_type": "code",
      "metadata": {
        "id": "vItCLwaazFmE"
      },
      "source": [
        ""
      ],
      "execution_count": null,
      "outputs": []
    },
    {
      "cell_type": "markdown",
      "metadata": {
        "id": "ZVpBtoWazFmF"
      },
      "source": [
        "## pandas 기본 7. 『 DataFrame 』  만들기,  행 열 추가하기"
      ]
    },
    {
      "cell_type": "code",
      "metadata": {
        "ExecuteTime": {
          "end_time": "2021-03-13T04:05:06.858591Z",
          "start_time": "2021-03-13T04:05:06.844604Z"
        },
        "id": "j9lxWPYczFmF"
      },
      "source": [
        "# 데이터 인덱스, 컬럼으로 DataFrame 생성하기\n",
        "pd.DataFrame([[0,1,2],[3,4,5]], \n",
        "             index=['00','11'],\n",
        "             columns=['a','b','c'])"
      ],
      "execution_count": null,
      "outputs": []
    },
    {
      "cell_type": "code",
      "metadata": {
        "ExecuteTime": {
          "end_time": "2021-03-13T04:05:06.874576Z",
          "start_time": "2021-03-13T04:05:06.861588Z"
        },
        "id": "CwQeABMwzFmF"
      },
      "source": [
        "# 넘파이 배열로 DataFrame 생성하기\n",
        "pd.DataFrame(np.ones((3,5)))"
      ],
      "execution_count": null,
      "outputs": []
    },
    {
      "cell_type": "code",
      "metadata": {
        "ExecuteTime": {
          "end_time": "2021-03-13T04:05:06.886563Z",
          "start_time": "2021-03-13T04:05:06.877573Z"
        },
        "id": "a0O1Ar6OzFmF"
      },
      "source": [
        "trafic_data = pd.DataFrame(\n",
        "    [[9800,5500],[10200,6600]],\n",
        "    index=['10/22','10/23'],\n",
        "    columns=['원티드','사람인'])\n",
        "trafic_data   # trafic_data 라는 DataFrame 생성"
      ],
      "execution_count": null,
      "outputs": []
    },
    {
      "cell_type": "markdown",
      "metadata": {
        "id": "zbedOjfhzFmF"
      },
      "source": [
        "### 새로운 열 추가"
      ]
    },
    {
      "cell_type": "code",
      "metadata": {
        "ExecuteTime": {
          "end_time": "2021-03-13T04:05:06.904545Z",
          "start_time": "2021-03-13T04:05:06.890560Z"
        },
        "id": "db0H2L1GzFmG"
      },
      "source": [
        "# 새로운 '잡플래닛' 열 (빈 데이터) 추가하기\n",
        "trafic_data.loc[:,'잡플래닛'] = np.nan\n",
        "trafic_data"
      ],
      "execution_count": null,
      "outputs": []
    },
    {
      "cell_type": "code",
      "metadata": {
        "ExecuteTime": {
          "end_time": "2021-03-13T04:05:06.920530Z",
          "start_time": "2021-03-13T04:05:06.906543Z"
        },
        "id": "9omucVKWzFmG"
      },
      "source": [
        "# 새로운 '잡코리아' 열 데이터 추가하기\n",
        "trafic_data.loc[:,'잡코리아'] = [980, 1020]\n",
        "trafic_data"
      ],
      "execution_count": null,
      "outputs": []
    },
    {
      "cell_type": "code",
      "metadata": {
        "ExecuteTime": {
          "end_time": "2021-03-13T04:05:06.935515Z",
          "start_time": "2021-03-13T04:05:06.922528Z"
        },
        "id": "r41nDTYIzFmG"
      },
      "source": [
        "# 숫자를 하나만 주면 broadcast 된다.\n",
        "trafic_data.loc[:,'스펙업'] = 20000\n",
        "trafic_data"
      ],
      "execution_count": null,
      "outputs": []
    },
    {
      "cell_type": "markdown",
      "metadata": {
        "id": "ZkMOrQXBzFmG"
      },
      "source": [
        "### 새로운 행 추가"
      ]
    },
    {
      "cell_type": "code",
      "metadata": {
        "ExecuteTime": {
          "end_time": "2021-03-13T04:05:06.956496Z",
          "start_time": "2021-03-13T04:05:06.938511Z"
        },
        "id": "j9xZSmrOzFmG"
      },
      "source": [
        "# 새로운 10/24 행 데이터추가하기\n",
        "trafic_data.loc['10/24'] = [12500,4520,3000,\n",
        "                           780, 21000]\n",
        "trafic_data"
      ],
      "execution_count": null,
      "outputs": []
    },
    {
      "cell_type": "code",
      "metadata": {
        "ExecuteTime": {
          "end_time": "2021-03-13T04:05:06.973479Z",
          "start_time": "2021-03-13T04:05:06.959491Z"
        },
        "id": "-0jp-dzBzFmG"
      },
      "source": [
        "# 값을 하나만 지정하면, broadcast 된다\n",
        "trafic_data.loc['10/25'] = 2000\n",
        "trafic_data"
      ],
      "execution_count": null,
      "outputs": []
    },
    {
      "cell_type": "code",
      "metadata": {
        "ExecuteTime": {
          "end_time": "2021-03-13T04:05:06.990460Z",
          "start_time": "2021-03-13T04:05:06.975476Z"
        },
        "id": "6MNygvCFzFmH"
      },
      "source": [
        "trafic_data.loc['10/22', '잡플래닛'] = 99\n",
        "trafic_data"
      ],
      "execution_count": null,
      "outputs": []
    },
    {
      "cell_type": "markdown",
      "metadata": {
        "id": "bwP-WpcqzFmH"
      },
      "source": [
        "### <연습문제>\n",
        "trafic_data에  '중고나라' 열 데이터를 추가하고, 50000으로 값을 지정해주세요"
      ]
    },
    {
      "cell_type": "code",
      "metadata": {
        "ExecuteTime": {
          "end_time": "2021-03-06T17:53:14.262854Z",
          "start_time": "2021-03-06T17:53:14.255861Z"
        },
        "id": "Z2StLb5TzFmH"
      },
      "source": [
        ""
      ],
      "execution_count": null,
      "outputs": []
    },
    {
      "cell_type": "code",
      "metadata": {
        "ExecuteTime": {
          "end_time": "2021-03-06T17:53:14.274842Z",
          "start_time": "2021-03-06T17:53:14.265853Z"
        },
        "id": "tRP3jVo8zFmH"
      },
      "source": [
        ""
      ],
      "execution_count": null,
      "outputs": []
    },
    {
      "cell_type": "markdown",
      "metadata": {
        "id": "QzIi-GCqzFmH"
      },
      "source": [
        "### <연습문제>\n",
        "trafic_data의  '중고나라', 10/24, 10/25 트래픽을 75000의 값을 지정해주세요"
      ]
    },
    {
      "cell_type": "code",
      "metadata": {
        "ExecuteTime": {
          "end_time": "2021-03-06T17:53:14.282833Z",
          "start_time": "2021-03-06T17:53:14.277839Z"
        },
        "id": "DYbw3M2uzFmH"
      },
      "source": [
        ""
      ],
      "execution_count": null,
      "outputs": []
    },
    {
      "cell_type": "code",
      "metadata": {
        "ExecuteTime": {
          "end_time": "2021-03-06T17:53:14.293825Z",
          "start_time": "2021-03-06T17:53:14.284832Z"
        },
        "id": "goXy-p-FzFmH"
      },
      "source": [
        ""
      ],
      "execution_count": null,
      "outputs": []
    },
    {
      "cell_type": "markdown",
      "metadata": {
        "id": "ybodasF0zFmI"
      },
      "source": [
        "## 데이터 파일 불러오기, csv파일로 저장하기"
      ]
    },
    {
      "cell_type": "code",
      "metadata": {
        "id": "iWclyOSkmbhB"
      },
      "source": [
        "my_df_2"
      ],
      "execution_count": null,
      "outputs": []
    },
    {
      "cell_type": "code",
      "metadata": {
        "ExecuteTime": {
          "end_time": "2021-03-13T04:05:07.007444Z",
          "start_time": "2021-03-13T04:05:06.993458Z"
        },
        "id": "mSIpgOk_zFmI"
      },
      "source": [
        "# dataframe을 csv 파일로 저장\n",
        "my_df_2.to_csv('my_df_2.csv')\n",
        "\n",
        "# 한글이 포함된 경우, 엑셀을 위해 인코딩 지정\n",
        "my_df_2.to_csv('my_df_2.csv', encoding='cp949')"
      ],
      "execution_count": null,
      "outputs": []
    },
    {
      "cell_type": "code",
      "metadata": {
        "ExecuteTime": {
          "end_time": "2021-03-13T04:05:07.028424Z",
          "start_time": "2021-03-13T04:05:07.009443Z"
        },
        "id": "KZ-zQcoUzFmI"
      },
      "source": [
        "# csv 파일을 dataframe으로 불러오기\n",
        "readed_df = pd.read_csv('my_df_2.csv')\n",
        "\n",
        "# encoding 지정하여 한글이 포함된 csv 파일 불러오기\n",
        "readed_df = pd.read_csv('my_df_2.csv', encoding='cp949',\n",
        "                       index_col=0)\n",
        "readed_df"
      ],
      "execution_count": null,
      "outputs": []
    },
    {
      "cell_type": "code",
      "metadata": {
        "id": "fsn4Bo9IzFmI"
      },
      "source": [
        ""
      ],
      "execution_count": null,
      "outputs": []
    }
  ]
}